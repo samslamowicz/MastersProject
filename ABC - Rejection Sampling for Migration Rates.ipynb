{
 "cells": [
  {
   "cell_type": "code",
   "execution_count": 3,
   "metadata": {},
   "outputs": [],
   "source": [
    "import msprime\n",
    "import sys\n",
    "import numpy as np\n",
    "import seaborn as sns\n",
    "from IPython.display import SVG\n",
    "import matplotlib.pyplot as plt\n",
    "from itertools import chain"
   ]
  },
  {
   "cell_type": "code",
   "execution_count": 16,
   "metadata": {},
   "outputs": [],
   "source": [
    "#Reference Population\n",
    "pop_configs = [\n",
    "    msprime.PopulationConfiguration(sample_size=100),\n",
    "    msprime.PopulationConfiguration(sample_size=100),]\n",
    "M = np.array([\n",
    "    [0  ,0.1],\n",
    "    [0.3,  0]\n",
    "])\n",
    "mutation_rate=0.2\n",
    "ts_ref = msprime.simulate(\n",
    "    population_configurations=pop_configs, migration_matrix=M,mutation_rate=mutation_rate, random_seed=15)"
   ]
  },
  {
   "cell_type": "code",
   "execution_count": 27,
   "metadata": {},
   "outputs": [],
   "source": [
    "#ABC Function\n",
    "def ABC(data,eps,pop_configs,populations,mutation_rate,prior_distribution=\"exponential\",prior_parameters=1,iterations=1000):\n",
    "    ref_stat = (data.f2(populations))\n",
    "    parameter1_samples = []\n",
    "    parameter2_samples = []\n",
    "    norm_mean = 0\n",
    "    if prior_distribution == \"uniform\":\n",
    "        for iter in range(0,iterations):\n",
    "            parameter1_sim = np.random.uniform(prior_parameters[0],prior_parameters[1])\n",
    "            parameter2_sim = np.random.uniform(prior_parameters[0],prior_parameters[1])\n",
    "            M = np.array([[0,parameter1_sim],\n",
    "                          [parameter2_sim,0]])\n",
    "            ts_sim = msprime.simulate(population_configurations=pop_configs, migration_matrix=M,mutation_rate=mutation_rate)\n",
    "            sim_stat = (ts_sim.f2(populations))\n",
    "            if np.linalg.norm(np.subtract(ref_stat,sim_stat)) < eps:\n",
    "                parameter1_samples.append(parameter1_sim)\n",
    "                parameter2_samples.append(parameter2_sim)\n",
    "            #elif eps < np.linalg.norm(np.subtract(ref_stat,sim_stat)) < 99999999:\n",
    "             #   norm_mean += np.linalg.norm(np.subtract(ref_stat,sim_stat))\n",
    "    if prior_distribution == \"beta\":\n",
    "        for iter in range(0,iterations):\n",
    "            parameter1_sim = np.random.beta(prior_parameters[0],prior_parameters[1])\n",
    "            parameter2_sim = np.random.beta(prior_parameters[0],prior_parameters[1])\n",
    "            M = np.array([[0,parameter1_sim],\n",
    "                          [parameter2_sim,0]])\n",
    "            ts_sim = msprime.simulate(population_configurations=pop_configs, migration_matrix=M,mutation_rate=mutation_rate)\n",
    "            sim_stat = (ts_sim.f2(populations))\n",
    "            if np.linalg.norm(np.subtract(ref_stat,sim_stat)) < eps:\n",
    "                parameter1_samples.append(parameter1_sim)\n",
    "                parameter2_samples.append(parameter2_sim)\n",
    "            #elif eps < np.linalg.norm(np.subtract(ref_stat,sim_stat)) < 99999999:\n",
    "             #   norm_mean += np.linalg.norm(np.subtract(ref_stat,sim_stat))\n",
    "    return(parameter1_samples,parameter2_samples)"
   ]
  },
  {
   "cell_type": "code",
   "execution_count": 34,
   "metadata": {},
   "outputs": [],
   "source": [
    "#Beta(1,3) prior \n",
    "iterations = 100000\n",
    "eps = 0.05\n",
    "populations=[range(0,100),range(100,200)]\n",
    "prior_distribution = \"beta\"\n",
    "prior_parameters = (1,3)\n",
    "attempt1 = ABC(ts_ref,eps=eps,pop_configs=pop_configs,populations=populations,mutation_rate=mutation_rate,prior_distribution=prior_distribution,prior_parameters=prior_parameters,iterations=iterations)\n"
   ]
  },
  {
   "cell_type": "code",
   "execution_count": 35,
   "metadata": {},
   "outputs": [
    {
     "data": {
      "image/png": "[encoded data removed]",
      "text/plain": [
       "<Figure size 432x288 with 1 Axes>"
      ]
     },
     "metadata": {
      "needs_background": "light"
     },
     "output_type": "display_data"
    },
    {
     "name": "stdout",
     "output_type": "stream",
     "text": [
      "Acceptance probability : 0.0563\n"
     ]
    },
    {
     "data": {
      "image/png": "[encoded data removed]",
      "text/plain": [
       "<Figure size 432x288 with 1 Axes>"
      ]
     },
     "metadata": {
      "needs_background": "light"
     },
     "output_type": "display_data"
    }
   ],
   "source": [
    "plt.hist(attempt1[0], bins = 100)\n",
    "plt.ylabel('Frequency')\n",
    "plt.xlabel('Mutation rate')\n",
    "plt.title('Posterior estimate')\n",
    "plt.show()\n",
    "print(\"Acceptance probability :\",len(attempt1[0])/iterations)\n",
    "plt.hist(attempt1[1], bins = 100)\n",
    "plt.ylabel('Frequency')\n",
    "plt.xlabel('Mutation rate')\n",
    "plt.title('Posterior estimate')\n",
    "plt.show()"
   ]
  },
  {
   "cell_type": "code",
   "execution_count": 36,
   "metadata": {},
   "outputs": [],
   "source": [
    "#Uniform(0,1) prior \n",
    "iterations = 100000\n",
    "eps = 0.05\n",
    "populations=[range(0,100),range(100,200)]\n",
    "prior_distribution = \"uniform\"\n",
    "prior_parameters = (0,1)\n",
    "attempt2 = ABC(ts_ref,eps=eps,pop_configs=pop_configs,populations=populations,mutation_rate=mutation_rate,prior_distribution=prior_distribution,prior_parameters=prior_parameters,iterations=iterations)\n"
   ]
  },
  {
   "cell_type": "code",
   "execution_count": 37,
   "metadata": {},
   "outputs": [
    {
     "data": {
      "image/png": "[encoded data removed]",
      "text/plain": [
       "<Figure size 432x288 with 1 Axes>"
      ]
     },
     "metadata": {
      "needs_background": "light"
     },
     "output_type": "display_data"
    },
    {
     "name": "stdout",
     "output_type": "stream",
     "text": [
      "Acceptance probability : 0.0543\n"
     ]
    },
    {
     "data": {
      "image/png": "[encoded data removed]",
      "text/plain": [
       "<Figure size 432x288 with 1 Axes>"
      ]
     },
     "metadata": {
      "needs_background": "light"
     },
     "output_type": "display_data"
    }
   ],
   "source": [
    "plt.hist(attempt2[0], bins = 100)\n",
    "plt.ylabel('Frequency')\n",
    "plt.xlabel('Mutation rate')\n",
    "plt.title('Posterior estimate')\n",
    "plt.show()\n",
    "print(\"Acceptance probability :\",len(attempt2[0])/iterations)\n",
    "plt.hist(attempt2[1], bins = 100)\n",
    "plt.ylabel('Frequency')\n",
    "plt.xlabel('Mutation rate')\n",
    "plt.title('Posterior estimate')\n",
    "plt.show()"
   ]
  }
 ],
 "metadata": {
  "kernelspec": {
   "display_name": "Python 3",
   "language": "python",
   "name": "python3"
  },
  "language_info": {
   "codemirror_mode": {
    "name": "ipython",
    "version": 3
   },
   "file_extension": ".py",
   "mimetype": "text/x-python",
   "name": "python",
   "nbconvert_exporter": "python",
   "pygments_lexer": "ipython3",
   "version": "3.7.6"
  }
 },
 "nbformat": 4,
 "nbformat_minor": 4
}
