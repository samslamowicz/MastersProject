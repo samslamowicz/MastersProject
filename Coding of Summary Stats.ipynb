{
 "cells": [
  {
   "cell_type": "code",
   "execution_count": 751,
   "metadata": {},
   "outputs": [],
   "source": [
    "import msprime\n",
    "import sys\n",
    "import numpy as np\n",
    "import seaborn as sns\n",
    "from IPython.display import SVG\n",
    "import matplotlib.pyplot as plt"
   ]
  },
  {
   "cell_type": "markdown",
   "metadata": {},
   "source": [
    "Coding statistics with tree sequences"
   ]
  },
  {
   "cell_type": "code",
   "execution_count": 752,
   "metadata": {},
   "outputs": [
    {
     "name": "stdout",
     "output_type": "stream",
     "text": [
      "[0.6]\n",
      "0.6\n"
     ]
    }
   ],
   "source": [
    "#Pairwise diversity with windows\n",
    "def treediversity(ts,windows=[0,1]):\n",
    "    stat = [0]*(len(windows)-1)\n",
    "    n = ts.num_samples\n",
    "    for tree in ts.trees():\n",
    "        for site in tree.sites():\n",
    "            position = site.position\n",
    "            window_index = sum([windows[i] <= position for i in range(0,len(windows))])\n",
    "            for mutation in site.mutations:\n",
    "                #mut = mutation.site(mutation)\n",
    "                #position = mut.position()\n",
    "                x = tree.num_samples(mutation.node)\n",
    "                f = x*(n-x)/(n*(n-1)/2)\n",
    "                stat[window_index-1] += f/(windows[window_index]-windows[window_index-1])\n",
    "    return(stat)\n",
    "\n",
    "windows = [0,0.2,0.33,0.5,0.7,0.9,1]\n",
    "ts0 = msprime.simulate(5,mutation_rate = 0.1,recombination_rate=0,random_seed=5)\n",
    "\n",
    "print(treediversity(ts0))\n",
    "print(ts0.diversity())"
   ]
  },
  {
   "cell_type": "code",
   "execution_count": 756,
   "metadata": {
    "scrolled": true
   },
   "outputs": [
    {
     "name": "stdout",
     "output_type": "stream",
     "text": [
      "0.12431196051345897\n",
      "[0.12431196]\n"
     ]
    }
   ],
   "source": [
    "#Tajima's D\n",
    "def TajimaD(ts):\n",
    "    n = ts.num_samples\n",
    "    a1 = sum([1/i for i in range(1,n)])\n",
    "    b1 = (n+1)/(3*(n-1))\n",
    "    c1 = b1 - 1/a1\n",
    "    e1 = c1/a1\n",
    "    a2 = sum([1/(i**2) for i in range(1,n)])\n",
    "    b2 = 2*(n**2 + n + 3)/(9*n*(n-1))\n",
    "    c2 = b2 - (n+2)/(a1*n) + a2/(a1**2)\n",
    "    e2 = c2/(a1**2 + a2)\n",
    "    S = ts.segregating_sites()\n",
    "    theta_pi = treediversity(ts)\n",
    "    theta_w = S/(a1)\n",
    "    C = (e1*S + e2*S*(S-1))**(1/2)\n",
    "    return((theta_pi-theta_w)/C)\n",
    "pop_configs = [\n",
    "    msprime.PopulationConfiguration(sample_size=5),\n",
    "    msprime.PopulationConfiguration(sample_size=5)\n",
    "]\n",
    "M= np.array([\n",
    "    [0,0.1],\n",
    "    [0.2,0]\n",
    "])\n",
    "ts = msprime.simulate(population_configurations=pop_configs,migration_matrix=M,mutation_rate = 0.2,recombination_rate=0.5,random_seed=6)\n",
    "\n",
    "print(ts.Tajimas_D())\n",
    "print(TajimaD(ts))"
   ]
  },
  {
   "cell_type": "code",
   "execution_count": 761,
   "metadata": {},
   "outputs": [
    {
     "name": "stdout",
     "output_type": "stream",
     "text": [
      "[0, -0.2777777777777776, -0.694444444444444, -0.46296296296296274, 0]\n",
      "[ 0.         -0.27777778 -0.69444444 -0.46296296  0.        ]\n"
     ]
    }
   ],
   "source": [
    "#F2\n",
    "def F2(ts,pops,windows=[0,1]):\n",
    "    stat = [0]*(len(windows)-1)\n",
    "    n1 = len(pops[0])\n",
    "    n2 = len(pops[1])\n",
    "    for tree in ts.trees(tracked_samples=pops[0]):\n",
    "        for site in tree.sites():\n",
    "            position = site.position\n",
    "            window_index = sum([windows[i] <= position for i in range(0,len(windows))])\n",
    "            for mutation in site.mutations:\n",
    "                x1 = 0\n",
    "                x2 = 0\n",
    "                for sample in tree.samples(mutation.node):\n",
    "                    if sample in pops[0]:\n",
    "                        x1 += 1\n",
    "                    elif sample in pops[1]:\n",
    "                        x2 += 1                \n",
    "                f = (x1*(n2-x2) + x2*(n1-x1))/(n1*n2) - x1*(n1-x1)/(n1*(n1-1)) - x2*(n2-x2)/(n2*(n2-1))\n",
    "                stat[window_index-1] += f/(windows[window_index]-windows[window_index-1])\n",
    "    return(stat)\n",
    "pop_configs = [\n",
    "    msprime.PopulationConfiguration(sample_size=3),\n",
    "    msprime.PopulationConfiguration(sample_size=3)\n",
    "]\n",
    "M= np.array([\n",
    "    [0,0.1],\n",
    "    [0.2,0]\n",
    "])\n",
    "\n",
    "ts = msprime.simulate(population_configurations=pop_configs,migration_matrix=M,mutation_rate = 0.1,recombination_rate=0.1,random_seed=9)\n",
    "    \n",
    "windows = [0,0.1,0.5,0.66,0.9,1]\n",
    "pops = [[0,1,2],[3,4,5]]     \n",
    "print(F2(ts,pops,windows=windows))\n",
    "print(ts.f2(pops,windows=windows))"
   ]
  },
  {
   "cell_type": "code",
   "execution_count": 764,
   "metadata": {},
   "outputs": [
    {
     "name": "stdout",
     "output_type": "stream",
     "text": [
      "[-0.4444444444444445, 0.833333333333333, -1.111111111111111]\n",
      "[-0.44444444  0.83333333 -1.11111111]\n"
     ]
    }
   ],
   "source": [
    "#F3\n",
    "def F3(ts,pops,windows=[0,1]):\n",
    "    n1 = len(pops[0])\n",
    "    n2 = len(pops[1])\n",
    "    n3 = len(pops[2])\n",
    "    stat = [0]*(len(windows)-1)\n",
    "    for tree in ts.trees(tracked_samples=pops[0]):\n",
    "        for site in tree.sites():\n",
    "            window_index = sum([windows[i] <= site.position for i in range(0,len(windows))])\n",
    "            for mutation in site.mutations:\n",
    "                x1 = 0\n",
    "                x2 = 0\n",
    "                x3 = 0\n",
    "                for sample in tree.samples(mutation.node):\n",
    "                    if sample in pops[0]:\n",
    "                        x1 += 1\n",
    "                    elif sample in pops[1]:\n",
    "                        x2 += 1\n",
    "                    elif sample in pops[2]:\n",
    "                        x3 += 1\n",
    "                f = (1/2)*((x1*(n2-x2) + x2*(n1-x1))/(n1*n2) + (x1*(n3-x3) + x3*(n1-x1))/(n1*n3) - (x2*(n3-x3) + x3*(n2-x2))/(n2*n3) - 2*x1*(n1-x1)/(n1*(n1-1)))\n",
    "                #f = x1*(x1-1)*(n2-x2)*(n3-x3)/(n1*(n1-1)*n2*n3) - x1*(n1-x1)*(n2-x2)*x3/(n1*(n1-1)*n2*n3)\n",
    "                stat[window_index - 1] += f/(windows[window_index]-windows[window_index-1])\n",
    "    return(stat)\n",
    "\n",
    "pop_configs = [\n",
    "    msprime.PopulationConfiguration(sample_size=3),\n",
    "    msprime.PopulationConfiguration(sample_size=3),\n",
    "    msprime.PopulationConfiguration(sample_size=4)\n",
    "]\n",
    "M = np.array([\n",
    "    [0,0.1,0],\n",
    "    [0.2,0,0],\n",
    "    [0.1,0.2,0]\n",
    "])\n",
    "ts = msprime.simulate(population_configurations=pop_configs,migration_matrix=M,mutation_rate = 0.7,recombination_rate=0.2,random_seed=1)\n",
    "\n",
    "pops = [[0,1,2],[3,4,5],[6,7,8,9]] \n",
    "windows = [0,0.5,0.6,1]\n",
    "print(F3(ts,pops,windows=windows))\n",
    "print(ts.f3(pops,windows=windows))"
   ]
  },
  {
   "cell_type": "code",
   "execution_count": 765,
   "metadata": {},
   "outputs": [
    {
     "name": "stdout",
     "output_type": "stream",
     "text": [
      "[-2.5, -10.000000000000002, 0.625]\n",
      "[ -2.5   -10.      0.625]\n"
     ]
    }
   ],
   "source": [
    "#F4\n",
    "def F4(ts,pops,windows=[0,1]):\n",
    "    n1 = len(pops[0])\n",
    "    n2 = len(pops[1])\n",
    "    n3 = len(pops[2])\n",
    "    n4 = len(pops[3])\n",
    "    stat = [0]*(len(windows)-1)\n",
    "    for tree in ts.trees(tracked_samples=pops[0]):\n",
    "        for site in tree.sites():\n",
    "            window_index = sum([windows[i] <= site.position for i in range(0,len(windows))])\n",
    "            for mutation in site.mutations:\n",
    "                x1 = 0\n",
    "                x2 = 0\n",
    "                x3 = 0\n",
    "                x4 = 0\n",
    "                for sample in tree.samples(mutation.node):\n",
    "                    if sample in pops[0]:\n",
    "                        x1 += 1\n",
    "                    elif sample in pops[1]:\n",
    "                        x2 += 1\n",
    "                    elif sample in pops[2]:\n",
    "                        x3 += 1\n",
    "                    elif sample in pops[3]:\n",
    "                        x4 += 1\n",
    "                f = (1/2)*((x1*(n4-x4) + x4*(n1-x1))/(n1*n4) + (x2*(n3-x3) + x3*(n2-x2))/(n2*n3) - (x1*(n3-x3) + x3*(n1-x1))/(n1*n3) - (x2*(n4-x4) + x4*(n2-x2))/(n2*n4))\n",
    "                stat[window_index - 1] += f/(windows[window_index]-windows[window_index-1])\n",
    "    return(stat)\n",
    "pop_configs = [\n",
    "    msprime.PopulationConfiguration(sample_size=3),\n",
    "    msprime.PopulationConfiguration(sample_size=3),\n",
    "    msprime.PopulationConfiguration(sample_size=4),\n",
    "    msprime.PopulationConfiguration(sample_size=4)\n",
    "]\n",
    "M = np.array([\n",
    "    [0,0.1,0,0.1],\n",
    "    [0.2,0,0.1,0],\n",
    "    [0.1,0.2,0,0],\n",
    "    [0.3,0.1,0,0]\n",
    "])\n",
    "\n",
    "ts = msprime.simulate(population_configurations=pop_configs,migration_matrix=M,mutation_rate = 0.6,recombination_rate=0.2,random_seed=3)\n",
    "\n",
    "pops = [[0,1,2],[3,4,5],[6,7,8,9],[10,11,12,13]] \n",
    "print(F4(ts,pops,windows=windows))\n",
    "print(ts.f4(pops,windows=windows))"
   ]
  },
  {
   "cell_type": "markdown",
   "metadata": {},
   "source": [
    "Speed testing for F2"
   ]
  },
  {
   "cell_type": "code",
   "execution_count": 795,
   "metadata": {},
   "outputs": [
    {
     "name": "stdout",
     "output_type": "stream",
     "text": [
      "Wall time: 0 ns\n"
     ]
    }
   ],
   "source": [
    "%%time\n",
    "#F2 testing\n",
    "pop_configs = [\n",
    "    msprime.PopulationConfiguration(sample_size=100),\n",
    "    msprime.PopulationConfiguration(sample_size=100)\n",
    "]\n",
    "M= np.array([\n",
    "    [0,0.1],\n",
    "    [0.2,0]\n",
    "])\n",
    "ts_collection = [0]*10000\n",
    "for i in range(0,10000):\n",
    "    ts_collection[i] = msprime.simulate(population_configurations=pop_configs,migration_matrix=M,mutation_rate = 0.7,recombination_rate=5,random_seed=i+1)"
   ]
  },
  {
   "cell_type": "code",
   "execution_count": 796,
   "metadata": {},
   "outputs": [
    {
     "name": "stdout",
     "output_type": "stream",
     "text": [
      "Wall time: 0 ns\n"
     ]
    }
   ],
   "source": [
    "%%time\n",
    "#Inbuilt F2 function\n",
    "inbuilt_f2_stats = [0]*10000\n",
    "for i in range(0,10000):\n",
    "    inbuilt_f2_stats[i] = ts_collection[i].f2([range(0,100),range(100,200)])"
   ]
  },
  {
   "cell_type": "code",
   "execution_count": 797,
   "metadata": {},
   "outputs": [
    {
     "name": "stdout",
     "output_type": "stream",
     "text": [
      "Wall time: 0 ns\n"
     ]
    }
   ],
   "source": [
    "%%time\n",
    "#My F2 function\n",
    "my_f2_stats = [0]*10000\n",
    "for i in range(0,10000):\n",
    "    my_f2_stats[i] = F2(ts_collection[i],[range(0,100),range(100,200)])"
   ]
  },
  {
   "cell_type": "markdown",
   "metadata": {},
   "source": [
    "Coding F3 with genotype data"
   ]
  },
  {
   "cell_type": "code",
   "execution_count": 798,
   "metadata": {},
   "outputs": [
    {
     "name": "stdout",
     "output_type": "stream",
     "text": [
      "[4.0]\n",
      "4.0\n"
     ]
    }
   ],
   "source": [
    "def F3gen(matrix,pops):\n",
    "    num_samples = len(matrix[0])\n",
    "    num_sites = len(matrix)\n",
    "    n1 = len(pops[0])\n",
    "    n2 = len(pops[1])\n",
    "    n3 = len(pops[2])\n",
    "    pi_11_count = 0\n",
    "    pi_12_count = 0\n",
    "    pi_13_count = 0\n",
    "    pi_23_count = 0\n",
    "    for i in range(0,num_sites):\n",
    "        p1_0count = 0\n",
    "        p1_1count = 0\n",
    "        p2_0count = 0\n",
    "        p2_1count = 0\n",
    "        p3_0count = 0\n",
    "        p3_1count = 0\n",
    "        for j in pops[0]+pops[1]+pops[2]:\n",
    "            allele = matrix[i][j]\n",
    "            if j in pops[0]:\n",
    "                p1_0count += 1 - allele\n",
    "                p1_1count += allele\n",
    "            elif j in pops[1]:\n",
    "                p2_0count += 1 - allele\n",
    "                p2_1count += allele\n",
    "            elif j in pops[2]:\n",
    "                p3_0count += 1 - allele\n",
    "                p3_1count += allele\n",
    "        pi_11_count += p1_0count*p1_1count\n",
    "        pi_12_count += p1_0count*p2_1count + p1_1count*p2_0count\n",
    "        pi_13_count += p1_0count*p3_1count + p1_1count*p3_0count\n",
    "        pi_23_count += p2_0count*p3_1count + p2_1count*p3_0count\n",
    "    pi11 = pi_11_count*2/(n1*(n1-1))\n",
    "    pi12 = pi_12_count/(n1*n2)\n",
    "    pi13 = pi_13_count/(n1*n3)\n",
    "    pi23 = pi_23_count/(n2*n3)\n",
    "    return((1/2)*(pi12 + pi13 - pi23 - pi11))\n",
    "pops = [[0,1,2],[3,4,5],[6,7,8,9]] \n",
    "windows = [0,0.5,0.6,1]\n",
    "print(F3(ts,pops))\n",
    "print(F3gen(ts.genotype_matrix(),pops))"
   ]
  },
  {
   "cell_type": "code",
   "execution_count": 804,
   "metadata": {},
   "outputs": [],
   "source": [
    "#F3 testing\n",
    "pop_configs = [\n",
    "    msprime.PopulationConfiguration(sample_size=100),\n",
    "    msprime.PopulationConfiguration(sample_size=100),\n",
    "    msprime.PopulationConfiguration(sample_size=100)\n",
    "]\n",
    "M= np.array([\n",
    "    [0,0.1,0],\n",
    "    [0.2,0,0],\n",
    "    [0.2,0.3,0]\n",
    "])\n",
    "pops = [list(range(0,100)),list(range(100,200)),list(range(200,300))]\n",
    "ts_collection = [0]*1000\n",
    "for i in range(0,1000):\n",
    "    ts_collection[i] = msprime.simulate(population_configurations=pop_configs,migration_matrix=M,mutation_rate = 2,recombination_rate=5,random_seed=i+1)"
   ]
  },
  {
   "cell_type": "code",
   "execution_count": 805,
   "metadata": {},
   "outputs": [],
   "source": [
    "f3_gen_stats = [0]*1000\n",
    "for i in range(0,1000):\n",
    "    f3_gen_stats[i] = F3gen(ts_collection[i].genotype_matrix(),pops)"
   ]
  }
 ],
 "metadata": {
  "kernelspec": {
   "display_name": "Python 3",
   "language": "python",
   "name": "python3"
  },
  "language_info": {
   "codemirror_mode": {
    "name": "ipython",
    "version": 3
   },
   "file_extension": ".py",
   "mimetype": "text/x-python",
   "name": "python",
   "nbconvert_exporter": "python",
   "pygments_lexer": "ipython3",
   "version": "3.7.6"
  }
 },
 "nbformat": 4,
 "nbformat_minor": 4
}
