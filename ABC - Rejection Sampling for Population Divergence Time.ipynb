{
 "cells": [
  {
   "cell_type": "code",
   "execution_count": 174,
   "metadata": {},
   "outputs": [],
   "source": [
    "import msprime\n",
    "import sys\n",
    "import numpy as np\n",
    "import seaborn as sns\n",
    "from IPython.display import SVG\n",
    "import matplotlib.pyplot as plt\n",
    "from itertools import chain"
   ]
  },
  {
   "cell_type": "code",
   "execution_count": 175,
   "metadata": {},
   "outputs": [
    {
     "name": "stdout",
     "output_type": "stream",
     "text": [
      "24.003232323232325\n",
      "Wall time: 12 ms\n"
     ]
    }
   ],
   "source": [
    "%%time\n",
    "pop_configs = [\n",
    "    msprime.PopulationConfiguration(sample_size=100, growth_rate = 0),\n",
    "    msprime.PopulationConfiguration(sample_size=100, growth_rate = 0),\n",
    "    msprime.PopulationConfiguration(sample_size=100, growth_rate = 0)]\n",
    "\n",
    "divergence_event1 = msprime.MassMigration(time = 50, source = 1, dest = 0, proportion = 1)\n",
    "divergence_event2 = msprime.MassMigration(time = 200, source = 2, dest = 0, proportion = 1)\n",
    "# Simulate!\n",
    "recomb = 0.5\n",
    "mutation_rate = 0.1\n",
    "ts_ref = msprime.simulate(population_configurations = pop_configs, mutation_rate=mutation_rate,\n",
    "                      demographic_events = [divergence_event1,divergence_event2],\n",
    "                      random_seed = 1, recombination_rate = recomb)\n",
    "ref_stat = ts_ref.f3([pops[2],pops[0],pops[1]])\n",
    "print(ref_stat)"
   ]
  },
  {
   "cell_type": "code",
   "execution_count": 176,
   "metadata": {},
   "outputs": [],
   "source": [
    "#ABC Function\n",
    "def ABC(data,eps,pop_configs,pops,recomb,mutations,divergence2,prior =\"exponential\",prior_parameters=10,iters=1000):\n",
    "    ref_stat = data.f3([pops[2],pops[0],pops[1]])\n",
    "    samples = []\n",
    "    norm_mean = 0\n",
    "    if prior == \"exponential\":\n",
    "        for iter in range(0,iterations):\n",
    "            divergence_time = min(np.random.exponential(prior_parameters),200)\n",
    "            divergence_event1 = msprime.MassMigration(time = divergence_time, source = 1, dest = 0, proportion = 1)\n",
    "            ts_sim = msprime.simulate(population_configurations = pop_configs, mutation_rate=mutation_rate,\n",
    "                      demographic_events = [divergence_event1,divergence_event2],recombination_rate = recomb)\n",
    "            sim_stat = ts_sim.f3([pops[2],pops[0],pops[1]])\n",
    "            if abs(ref_stat-sim_stat) < eps:\n",
    "                samples.append(divergence_time)\n",
    "                norm_mean += np.linalg.norm(np.subtract(ref_stat,sim_stat))\n",
    "            elif eps <= np.linalg.norm(np.subtract(ref_stat,sim_stat)) < 99999999:\n",
    "                norm_mean += np.linalg.norm(np.subtract(ref_stat,sim_stat))\n",
    "    if prior == \"uniform\":\n",
    "        for iter in range(0,iterations):\n",
    "            divergence_time = np.random.uniform(prior_parameters[0],prior_parameters[1])\n",
    "            divergence_event1 = msprime.MassMigration(time = divergence_time, source = 1, dest = 0, proportion = 1)\n",
    "            ts_sim = msprime.simulate(population_configurations = pop_configs, mutation_rate=mutation_rate,\n",
    "                      demographic_events = [divergence_event1,divergence_event2],recombination_rate = recomb)\n",
    "            sim_stat = ts_sim.f3([pops[2],pops[0],pops[1]])\n",
    "            if abs(ref_stat-sim_stat) < eps:\n",
    "                samples.append(divergence_time)\n",
    "                norm_mean += np.linalg.norm(np.subtract(ref_stat,sim_stat))\n",
    "            elif eps <= np.linalg.norm(np.subtract(ref_stat,sim_stat)) < 99999999:\n",
    "                norm_mean += np.linalg.norm(np.subtract(ref_stat,sim_stat))\n",
    "    return(samples,norm_mean/iterations)"
   ]
  },
  {
   "cell_type": "code",
   "execution_count": 177,
   "metadata": {},
   "outputs": [],
   "source": [
    "%time\n",
    "#Exponential prior rate 40 \n",
    "iterations = 10000\n",
    "eps = 0.1\n",
    "prior= \"exponential\"\n",
    "prior_parameters = 40\n",
    "pops = [range(0,100),range(100,200),range(200,300)]\n",
    "attempt1 = ABC(ts_ref,eps=eps,pop_configs=pop_configs,pops=pops,recomb=recomb,mutations=mutation_rate,divergence2 = divergence_event2,prior=prior,prior_parameters=prior_parameters,iters=iterations)\n"
   ]
  },
  {
   "cell_type": "code",
   "execution_count": 178,
   "metadata": {},
   "outputs": [
    {
     "data": {
      "image/png": "[encoded data removed]",
      "text/plain": [
       "<Figure size 432x288 with 1 Axes>"
      ]
     },
     "metadata": {
      "needs_background": "light"
     },
     "output_type": "display_data"
    },
    {
     "name": "stdout",
     "output_type": "stream",
     "text": [
      "Acceptance probability : 0.0083\n",
      "Mean norm :  12.334155749899356\n"
     ]
    }
   ],
   "source": [
    "plt.hist(attempt1[0], bins = 100)\n",
    "plt.ylabel('Frequency')\n",
    "plt.xlabel('Divergence Time')\n",
    "plt.title('Posterior estimate')\n",
    "plt.show()\n",
    "print(\"Acceptance probability :\",len(attempt1[0])/iterations)\n",
    "print(\"Mean norm : \",attempt1[1])"
   ]
  },
  {
   "cell_type": "code",
   "execution_count": 179,
   "metadata": {},
   "outputs": [],
   "source": [
    "%time\n",
    "#Uniform(0,180) prior\n",
    "iterations = 10000\n",
    "eps = 0.1\n",
    "prior= \"uniform\"\n",
    "prior_parameters = (1,180)\n",
    "pops = [range(0,100),range(100,200),range(200,300)]\n",
    "attempt2 = ABC(ts_ref,eps=eps,pop_configs=pop_configs,pops=pops,recomb=recomb,mutations=mutation_rate,divergence2 = divergence_event2,prior=prior,prior_parameters=prior_parameters,iters=iterations)\n"
   ]
  },
  {
   "cell_type": "code",
   "execution_count": 180,
   "metadata": {},
   "outputs": [
    {
     "data": {
      "image/png": "[encoded data removed]",
      "text/plain": [
       "<Figure size 432x288 with 1 Axes>"
      ]
     },
     "metadata": {
      "needs_background": "light"
     },
     "output_type": "display_data"
    },
    {
     "name": "stdout",
     "output_type": "stream",
     "text": [
      "Acceptance probability : 0.0271\n",
      "Mean norm :  8.238262867979977\n"
     ]
    }
   ],
   "source": [
    "plt.hist(attempt2[0], bins = 100)\n",
    "plt.ylabel('Frequency')\n",
    "plt.xlabel('Divergence Time')\n",
    "plt.title('Posterior estimate')\n",
    "plt.show()\n",
    "print(\"Acceptance probability :\",len(attempt2[0])/iterations)\n",
    "print(\"Mean norm : \",attempt2[1])"
   ]
  }
 ],
 "metadata": {
  "kernelspec": {
   "display_name": "Python 3",
   "language": "python",
   "name": "python3"
  },
  "language_info": {
   "codemirror_mode": {
    "name": "ipython",
    "version": 3
   },
   "file_extension": ".py",
   "mimetype": "text/x-python",
   "name": "python",
   "nbconvert_exporter": "python",
   "pygments_lexer": "ipython3",
   "version": "3.7.6"
  }
 },
 "nbformat": 4,
 "nbformat_minor": 4
}
