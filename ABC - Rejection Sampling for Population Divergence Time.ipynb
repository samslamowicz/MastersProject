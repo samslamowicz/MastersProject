{
 "cells": [
  {
   "cell_type": "code",
   "execution_count": 4,
   "metadata": {},
   "outputs": [],
   "source": [
    "import msprime\n",
    "import sys\n",
    "import numpy as np\n",
    "import seaborn as sns\n",
    "from IPython.display import SVG\n",
    "import matplotlib.pyplot as plt\n",
    "from itertools import chain"
   ]
  },
  {
   "cell_type": "code",
   "execution_count": 9,
   "metadata": {},
   "outputs": [
    {
     "name": "stdout",
     "output_type": "stream",
     "text": [
      "489.9956505050505\n",
      "1741\n",
      "Wall time: 82.9 ms\n"
     ]
    }
   ],
   "source": [
    "%%time\n",
    "pop_configs = [\n",
    "    msprime.PopulationConfiguration(sample_size=100, growth_rate = 0),\n",
    "    msprime.PopulationConfiguration(sample_size=100, growth_rate = 0),\n",
    "    msprime.PopulationConfiguration(sample_size=100, growth_rate = 0)]\n",
    "\n",
    "divergence_event1 = msprime.MassMigration(time = 50, source = 1, dest = 0, proportion = 1)\n",
    "divergence_event2 = msprime.MassMigration(time = 1000, source = 2, dest = 0, proportion = 1)\n",
    "Ne = 100\n",
    "recomb = 0.5\n",
    "mutation_rate = 0.25\n",
    "pops = [range(0,100),range(100,200),range(200,300)]\n",
    "ts_ref = msprime.simulate(population_configurations = pop_configs,Ne = Ne,mutation_rate=mutation_rate,\n",
    "                      demographic_events = [divergence_event1,divergence_event2],\n",
    "                      random_seed = 1, recombination_rate = recomb)\n",
    "ref_stat = ts_ref.f3([pops[2],pops[0],pops[1]])"
   ]
  },
  {
   "cell_type": "code",
   "execution_count": 26,
   "metadata": {},
   "outputs": [],
   "source": [
    "#ABC Function\n",
    "def ABC(data,eps,pop_configs,pops,Ne,recomb,mutations,divergence2,prior =\"exponential\",prior_parameters=10,iters=1000):\n",
    "    ref_stat = (data.f2([pops[0],pops[1]]))\n",
    "    samples = []\n",
    "    if prior == \"exponential\":\n",
    "        for iter in range(0,iterations):\n",
    "            divergence_time = min(np.random.exponential(prior_parameters),1000)\n",
    "            divergence_event1 = msprime.MassMigration(time = divergence_time, source = 1, dest = 0, proportion = 1)\n",
    "            ts_sim = msprime.simulate(population_configurations = pop_configs,Ne=Ne, mutation_rate=mutation_rate,\n",
    "                      demographic_events = [divergence_event1,divergence_event2],recombination_rate = recomb)\n",
    "            sim_stat = (ts_sim.f2([pops[0],pops[1]]))\n",
    "            if np.linalg.norm(np.subtract(ref_stat,sim_stat)) < eps:\n",
    "                samples.append(divergence_time)\n",
    "    if prior == \"uniform\":\n",
    "        for iter in range(0,iterations):\n",
    "            divergence_time = min(np.random.uniform(prior_parameters[0],prior_parameters[1]),1000)\n",
    "            divergence_event1 = msprime.MassMigration(time = divergence_time, source = 1, dest = 0, proportion = 1)\n",
    "            ts_sim = msprime.simulate(population_configurations = pop_configs,Ne=Ne, mutation_rate=mutation_rate,\n",
    "                      demographic_events = [divergence_event1,divergence_event2],recombination_rate = recomb)\n",
    "            sim_stat = (ts_sim.f2([pops[0],pops[1]]))\n",
    "            if np.linalg.norm(np.subtract(ref_stat,sim_stat)) < eps:\n",
    "                samples.append(divergence_time)\n",
    "    return(samples)"
   ]
  },
  {
   "cell_type": "code",
   "execution_count": 30,
   "metadata": {},
   "outputs": [
    {
     "name": "stdout",
     "output_type": "stream",
     "text": [
      "Wall time: 4min 26s\n"
     ]
    }
   ],
   "source": [
    "%%time\n",
    "#Exponential prior rate 40 \n",
    "iterations = 10000\n",
    "eps = 1\n",
    "prior= \"exponential\"\n",
    "prior_parameters = 40\n",
    "attempt1 = ABC(ts_ref,eps=eps,pop_configs=pop_configs,pops=pops,Ne=Ne,recomb=recomb,mutations=mutation_rate,divergence2 = divergence_event2,prior=prior,prior_parameters=prior_parameters,iters=iterations)\n"
   ]
  },
  {
   "cell_type": "code",
   "execution_count": 31,
   "metadata": {},
   "outputs": [
    {
     "data": {
      "image/png": "[encoded data removed]",
      "text/plain": [
       "<Figure size 432x288 with 1 Axes>"
      ]
     },
     "metadata": {
      "needs_background": "light"
     },
     "output_type": "display_data"
    },
    {
     "name": "stdout",
     "output_type": "stream",
     "text": [
      "Acceptance probability : 0.0248\n"
     ]
    }
   ],
   "source": [
    "plt.hist(attempt1, bins = 100)\n",
    "plt.ylabel('Frequency')\n",
    "plt.xlabel('Divergence Time')\n",
    "plt.title('Posterior estimate')\n",
    "plt.show()\n",
    "print(\"Acceptance probability :\",len(attempt1)/iterations)"
   ]
  },
  {
   "cell_type": "code",
   "execution_count": 32,
   "metadata": {},
   "outputs": [
    {
     "name": "stdout",
     "output_type": "stream",
     "text": [
      "Wall time: 50min\n"
     ]
    }
   ],
   "source": [
    "%%time\n",
    "#Uniform(0,180) prior\n",
    "iterations = 100000\n",
    "eps = 1\n",
    "prior= \"uniform\"\n",
    "prior_parameters = (1,300)\n",
    "pops = [range(0,100),range(100,200),range(200,300)]\n",
    "attempt2 = ABC(ts_ref,eps=eps,pop_configs=pop_configs,pops=pops,Ne=Ne,recomb=recomb,mutations=mutation_rate,divergence2 = divergence_event2,prior=prior,prior_parameters=prior_parameters,iters=iterations)\n"
   ]
  },
  {
   "cell_type": "code",
   "execution_count": 33,
   "metadata": {},
   "outputs": [
    {
     "data": {
      "image/png": "[encoded data removed]",
      "text/plain": [
       "<Figure size 432x288 with 1 Axes>"
      ]
     },
     "metadata": {
      "needs_background": "light"
     },
     "output_type": "display_data"
    },
    {
     "name": "stdout",
     "output_type": "stream",
     "text": [
      "Acceptance probability : 0.01346\n"
     ]
    }
   ],
   "source": [
    "plt.hist(attempt2, bins = 100)\n",
    "plt.ylabel('Frequency')\n",
    "plt.xlabel('Divergence Time')\n",
    "plt.title('Posterior estimate')\n",
    "plt.show()\n",
    "print(\"Acceptance probability :\",len(attempt2)/iterations)"
   ]
  },
  {
   "cell_type": "code",
   "execution_count": null,
   "metadata": {},
   "outputs": [],
   "source": [
    " "
   ]
  }
 ],
 "metadata": {
  "kernelspec": {
   "display_name": "Python 3",
   "language": "python",
   "name": "python3"
  },
  "language_info": {
   "codemirror_mode": {
    "name": "ipython",
    "version": 3
   },
   "file_extension": ".py",
   "mimetype": "text/x-python",
   "name": "python",
   "nbconvert_exporter": "python",
   "pygments_lexer": "ipython3",
   "version": "3.7.6"
  }
 },
 "nbformat": 4,
 "nbformat_minor": 4
}
