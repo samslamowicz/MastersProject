{
 "cells": [
  {
   "cell_type": "code",
   "execution_count": 1,
   "metadata": {},
   "outputs": [],
   "source": [
    "import msprime\n",
    "import sys\n",
    "import numpy as np\n",
    "import seaborn as sns\n",
    "from IPython.display import SVG\n",
    "import matplotlib.pyplot as plt\n",
    "from itertools import chain"
   ]
  },
  {
   "cell_type": "code",
   "execution_count": 2,
   "metadata": {},
   "outputs": [
    {
     "data": {
      "text/plain": [
       "500"
      ]
     },
     "execution_count": 2,
     "metadata": {},
     "output_type": "execute_result"
    }
   ],
   "source": [
    "#Reference Population\n",
    "pop_configs = [\n",
    "    msprime.PopulationConfiguration(sample_size=100)]\n",
    "Ne = 100\n",
    "recomb = 0.1\n",
    "ts_ref = msprime.simulate(\n",
    "    population_configurations=pop_configs,Ne = Ne,mutation_rate=0.25,recombination_rate = recomb,random_seed=11)\n",
    "ts_ref.num_mutations"
   ]
  },
  {
   "cell_type": "code",
   "execution_count": 26,
   "metadata": {},
   "outputs": [],
   "source": [
    "#ABC Function\n",
    "def ABC(data,eps,pop_configs,Ne,recomb,prior=\"exponential\",prior_parameters=1,iters=1000):\n",
    "    ref_stat = (data.diversity(),data.Tajimas_D(),data.segregating_sites())\n",
    "    samples = []\n",
    "    if prior == \"exponential\":\n",
    "        for i in range(0,iters):\n",
    "            mutation_rate_sim = np.random.exponential(prior_parameters)\n",
    "            ts_sim = msprime.simulate(population_configurations=pop_configs,Ne=Ne,recombination_rate=recomb,mutation_rate=mutation_rate_sim)\n",
    "            sim_stat = (ts_sim.diversity(),ts_sim.Tajimas_D(),ts_sim.segregating_sites())\n",
    "            if np.linalg.norm(np.subtract(ref_stat,sim_stat)) < eps:\n",
    "                samples.append(mutation_rate_sim)\n",
    "    elif prior == \"uniform\":\n",
    "        for i in range(0,iters):\n",
    "            mutation_rate_sim = np.random.uniform(prior_parameters[0],prior_parameters[1])\n",
    "            ts_sim = msprime.simulate(population_configurations=pop_configs,Ne=Ne,recombination_rate=recomb,mutation_rate=mutation_rate_sim)\n",
    "            sim_stat = (ts_sim.diversity(),ts_sim.Tajimas_D(),ts_sim.segregating_sites())\n",
    "            if np.linalg.norm(np.subtract(ref_stat,sim_stat)) < eps:\n",
    "                samples.append(mutation_rate_sim)\n",
    "    elif prior == \"gamma\":\n",
    "        for i in range(0,iters):\n",
    "            mutation_rate_sim = np.random.gamma(prior_parameters[0],prior_parameters[1])\n",
    "            ts_sim = msprime.simulate(population_configurations=pop_configs,Ne=Ne,recombination_rate=recomb,mutation_rate=mutation_rate_sim)\n",
    "            sim_stat = (ts_sim.diversity(),ts_sim.Tajimas_D(),ts_sim.segregating_sites())\n",
    "            if np.linalg.norm(np.subtract(ref_stat,sim_stat)) < eps:\n",
    "                samples.append(mutation_rate_sim)\n",
    "    return(samples)"
   ]
  },
  {
   "cell_type": "code",
   "execution_count": 27,
   "metadata": {},
   "outputs": [],
   "source": [
    "#ABC Function\n",
    "def ABCalt(data,eps,pop_configs,Ne,recomb,prior=\"exponential\",prior_parameters=1,iters=1000):\n",
    "    ref_stat = (data.diversity(),data.Tajimas_D(),data.segregating_sites())\n",
    "    samples = []\n",
    "    if prior == \"exponential\":\n",
    "        for i in range(0,iters):\n",
    "            mutation_rate_sim = np.random.exponential(prior_parameters)\n",
    "            ts_sim = msprime.simulate(population_configurations=pop_configs,Ne=Ne,recombination_rate=recomb,mutation_rate=mutation_rate_sim)\n",
    "            sim_stat = (ts_sim.diversity()/ref_stat[0],ts_sim.Tajimas_D()/ref_stat[1],ts_sim.segregating_sites()/ref_stat[2])\n",
    "            if np.linalg.norm(np.subtract((1,1,1),sim_stat)) < eps:\n",
    "                samples.append(mutation_rate_sim)\n",
    "    elif prior == \"uniform\":\n",
    "        for i in range(0,iters):\n",
    "            mutation_rate_sim = np.random.uniform(prior_parameters[0],prior_parameters[1])\n",
    "            ts_sim = msprime.simulate(population_configurations=pop_configs,Ne=Ne,recombination_rate=recomb,mutation_rate=mutation_rate_sim)\n",
    "            sim_stat = (ts_sim.diversity()/ref_stat[0],ts_sim.Tajimas_D()/ref_stat[1],ts_sim.segregating_sites()/ref_stat[2])\n",
    "            if np.linalg.norm(np.subtract((1,1,1),sim_stat)) < eps:\n",
    "                samples.append(mutation_rate_sim)\n",
    "    elif prior == \"gamma\":\n",
    "        for i in range(0,iters):\n",
    "            mutation_rate_sim = np.random.gamma(prior_parameters[0],prior_parameters[1])\n",
    "            ts_sim = msprime.simulate(population_configurations=pop_configs,Ne=Ne,recombination_rate=recomb,mutation_rate=mutation_rate_sim)\n",
    "            sim_stat = (ts_sim.diversity()/ref_stat[0],ts_sim.Tajimas_D()/ref_stat[1],ts_sim.segregating_sites()/ref_stat[2])\n",
    "            if np.linalg.norm(np.subtract((1,1,1),sim_stat)) < eps:\n",
    "                samples.append(mutation_rate_sim)\n",
    "    return(samples)"
   ]
  },
  {
   "cell_type": "markdown",
   "metadata": {},
   "source": [
    "Trying different priors - results are similar, all underestimate mutation rate"
   ]
  },
  {
   "cell_type": "code",
   "execution_count": 28,
   "metadata": {},
   "outputs": [
    {
     "name": "stdout",
     "output_type": "stream",
     "text": [
      "Wall time: 7min 31s\n"
     ]
    }
   ],
   "source": [
    "%%time\n",
    "#Exponential prior scale 0.2\n",
    "iterations = 100000\n",
    "eps = 10\n",
    "prior= \"exponential\"\n",
    "prior_parameters = 0.2\n",
    "attempt1 = ABC(ts_ref,eps=eps,pop_configs=pop_configs,Ne=Ne,recomb=recomb,prior=prior,prior_parameters=prior_parameters,iters=iterations)"
   ]
  },
  {
   "cell_type": "code",
   "execution_count": 29,
   "metadata": {},
   "outputs": [
    {
     "data": {
      "image/png": "[encoded data removed]",
      "text/plain": [
       "<Figure size 432x288 with 1 Axes>"
      ]
     },
     "metadata": {
      "needs_background": "light"
     },
     "output_type": "display_data"
    },
    {
     "name": "stdout",
     "output_type": "stream",
     "text": [
      "Acceptance probability : 0.00211\n"
     ]
    }
   ],
   "source": [
    "plt.hist(attempt1, bins = 100)\n",
    "plt.ylabel('Frequency')\n",
    "plt.xlabel('Mutation rate')\n",
    "plt.title('Posterior estimate')\n",
    "plt.show()\n",
    "print(\"Acceptance probability :\",len(attempt1)/iterations)"
   ]
  },
  {
   "cell_type": "code",
   "execution_count": 30,
   "metadata": {},
   "outputs": [
    {
     "name": "stdout",
     "output_type": "stream",
     "text": [
      "Wall time: 6min 51s\n"
     ]
    }
   ],
   "source": [
    "%%time\n",
    "#Exponential prior scale 0.1\n",
    "iterations = 100000\n",
    "eps = 10\n",
    "prior = \"exponential\"\n",
    "prior_parameters = 0.1\n",
    "attempt2 = ABC(ts_ref,eps=eps,pop_configs=pop_configs,Ne=Ne,recomb=recomb,prior=prior,prior_parameters=prior_parameters,iters=iterations)\n"
   ]
  },
  {
   "cell_type": "code",
   "execution_count": 31,
   "metadata": {},
   "outputs": [
    {
     "data": {
      "image/png": "[encoded data removed]",
      "text/plain": [
       "<Figure size 432x288 with 1 Axes>"
      ]
     },
     "metadata": {
      "needs_background": "light"
     },
     "output_type": "display_data"
    },
    {
     "name": "stdout",
     "output_type": "stream",
     "text": [
      "Acceptance probability : 0.00119\n"
     ]
    }
   ],
   "source": [
    "plt.hist(attempt2, bins = 100)\n",
    "plt.ylabel('Frequency')\n",
    "plt.xlabel('Mutation rate')\n",
    "plt.title('Posterior estimate')\n",
    "plt.show()\n",
    "print(\"Acceptance probability :\",len(attempt2)/iterations)"
   ]
  },
  {
   "cell_type": "code",
   "execution_count": 32,
   "metadata": {},
   "outputs": [
    {
     "name": "stdout",
     "output_type": "stream",
     "text": [
      "Wall time: 9min 30s\n"
     ]
    }
   ],
   "source": [
    "%%time\n",
    "#Gamma(0.5,1) prior\n",
    "iterations = 100000\n",
    "eps = 10\n",
    "prior = \"gamma\"\n",
    "prior_parameters = (0.5,1)\n",
    "attempt3 = ABC(ts_ref,eps=eps,pop_configs=pop_configs,Ne=Ne,recomb=recomb,prior=prior,prior_parameters=prior_parameters,iters=iterations)\n"
   ]
  },
  {
   "cell_type": "code",
   "execution_count": 33,
   "metadata": {},
   "outputs": [
    {
     "data": {
      "image/png": "[encoded data removed]",
      "text/plain": [
       "<Figure size 432x288 with 1 Axes>"
      ]
     },
     "metadata": {
      "needs_background": "light"
     },
     "output_type": "display_data"
    },
    {
     "name": "stdout",
     "output_type": "stream",
     "text": [
      "Acceptance probability : 0.00144\n"
     ]
    }
   ],
   "source": [
    "plt.hist(attempt3, bins = 100)\n",
    "plt.ylabel('Frequency')\n",
    "plt.xlabel('Mutation rate')\n",
    "plt.title('Posterior estimate')\n",
    "plt.show()\n",
    "print(\"Acceptance probability :\",len(attempt3)/iterations)"
   ]
  },
  {
   "cell_type": "code",
   "execution_count": 34,
   "metadata": {},
   "outputs": [
    {
     "name": "stdout",
     "output_type": "stream",
     "text": [
      "Wall time: 9min 40s\n"
     ]
    }
   ],
   "source": [
    "%%time\n",
    "#Uniform(0,1) prior\n",
    "iterations = 100000\n",
    "eps = 10\n",
    "prior = \"uniform\"\n",
    "prior_parameters = (0,1)\n",
    "attempt4 = ABC(ts_ref,eps=eps,pop_configs=pop_configs,Ne=Ne,recomb=recomb,prior=prior,prior_parameters=prior_parameters,iters=iterations)\n"
   ]
  },
  {
   "cell_type": "code",
   "execution_count": 35,
   "metadata": {},
   "outputs": [
    {
     "data": {
      "image/png": "[encoded data removed]",
      "text/plain": [
       "<Figure size 432x288 with 1 Axes>"
      ]
     },
     "metadata": {
      "needs_background": "light"
     },
     "output_type": "display_data"
    },
    {
     "name": "stdout",
     "output_type": "stream",
     "text": [
      "Acceptance probability : 0.00142\n"
     ]
    }
   ],
   "source": [
    "plt.hist(attempt4, bins = 100)\n",
    "plt.ylabel('Frequency')\n",
    "plt.xlabel('Mutation rate')\n",
    "plt.title('Posterior estimate')\n",
    "plt.show()\n",
    "print(\"Acceptance probability :\",len(attempt4)/iterations)"
   ]
  },
  {
   "cell_type": "code",
   "execution_count": 42,
   "metadata": {},
   "outputs": [
    {
     "name": "stdout",
     "output_type": "stream",
     "text": [
      "Wall time: 6min\n"
     ]
    }
   ],
   "source": [
    "%%time\n",
    "#Exponential prior scale 0.1, standardized statistics\n",
    "iterations = 100000\n",
    "eps = 0.3\n",
    "prior = \"exponential\"\n",
    "prior_parameters = 0.1\n",
    "attempt6 = ABCalt(ts_ref,eps=eps,pop_configs=pop_configs,Ne=Ne,recomb=recomb,prior=prior,prior_parameters=prior_parameters,iters=iterations)\n"
   ]
  },
  {
   "cell_type": "code",
   "execution_count": 43,
   "metadata": {},
   "outputs": [
    {
     "data": {
      "image/png": "[encoded data removed]",
      "text/plain": [
       "<Figure size 432x288 with 1 Axes>"
      ]
     },
     "metadata": {
      "needs_background": "light"
     },
     "output_type": "display_data"
    },
    {
     "name": "stdout",
     "output_type": "stream",
     "text": [
      "Acceptance probability : 0.00051\n"
     ]
    }
   ],
   "source": [
    "plt.hist(attempt6, bins = 100)\n",
    "plt.ylabel('Frequency')\n",
    "plt.xlabel('Mutation rate')\n",
    "plt.title('Posterior estimate')\n",
    "plt.show()\n",
    "print(\"Acceptance probability :\",len(attempt6)/iterations)"
   ]
  },
  {
   "cell_type": "markdown",
   "metadata": {},
   "source": [
    "Altering Sample Size"
   ]
  },
  {
   "cell_type": "code",
   "execution_count": 44,
   "metadata": {},
   "outputs": [],
   "source": [
    "#Reference Population - Smaller sample size\n",
    "pop_configs = [\n",
    "    msprime.PopulationConfiguration(sample_size=20)]\n",
    "Ne = 100\n",
    "recomb = 0.1\n",
    "ts_ref2 = msprime.simulate(\n",
    "    population_configurations=pop_configs,Ne = Ne,mutation_rate=0.25,recombination_rate = recomb,random_seed=11)"
   ]
  },
  {
   "cell_type": "code",
   "execution_count": 48,
   "metadata": {},
   "outputs": [
    {
     "name": "stdout",
     "output_type": "stream",
     "text": [
      "Wall time: 10min 10s\n"
     ]
    }
   ],
   "source": [
    "%%time\n",
    "#Exponential prior scale 1\n",
    "iterations = 100000\n",
    "eps = 1\n",
    "prior = \"exponential\"\n",
    "prior_parameters = 1\n",
    "attempt8 = ABC(ts_ref2,eps=eps,pop_configs=pop_configs,Ne = Ne,recomb=recomb,prior=prior,prior_parameters=prior_parameters,iters=iterations)"
   ]
  },
  {
   "cell_type": "code",
   "execution_count": 49,
   "metadata": {},
   "outputs": [
    {
     "data": {
      "image/png": "[encoded data removed]",
      "text/plain": [
       "<Figure size 432x288 with 1 Axes>"
      ]
     },
     "metadata": {
      "needs_background": "light"
     },
     "output_type": "display_data"
    },
    {
     "name": "stdout",
     "output_type": "stream",
     "text": [
      "Acceptance probability : 3e-05\n"
     ]
    }
   ],
   "source": [
    "plt.hist(attempt8, bins = 100)\n",
    "plt.ylabel('Frequency')\n",
    "plt.xlabel('Mutation rate')\n",
    "plt.title('Posterior estimate')\n",
    "plt.show()\n",
    "print(\"Acceptance probability :\",len(attempt8)/iterations)"
   ]
  },
  {
   "cell_type": "code",
   "execution_count": 50,
   "metadata": {},
   "outputs": [],
   "source": [
    "#Reference Population - Larger sample size\n",
    "pop_configs = [\n",
    "    msprime.PopulationConfiguration(sample_size=300)]\n",
    "Ne = 100\n",
    "recomb = 0.1\n",
    "ts_ref3 = msprime.simulate(\n",
    "    population_configurations=pop_configs,Ne = Ne,mutation_rate=0.25,recombination_rate = recomb,random_seed=11)"
   ]
  },
  {
   "cell_type": "code",
   "execution_count": 51,
   "metadata": {},
   "outputs": [
    {
     "name": "stdout",
     "output_type": "stream",
     "text": [
      "Wall time: 15min 24s\n"
     ]
    }
   ],
   "source": [
    "%%time\n",
    "#Exponential prior scale 1\n",
    "iterations = 100000\n",
    "eps = 10\n",
    "prior = \"exponential\"\n",
    "prior_parameters = 1\n",
    "attempt9 = ABC(ts_ref3,eps=eps,pop_configs=pop_configs,Ne=Ne,recomb=recomb,prior=prior,prior_parameters=prior_parameters,iters=iterations)"
   ]
  },
  {
   "cell_type": "code",
   "execution_count": 52,
   "metadata": {},
   "outputs": [
    {
     "data": {
      "image/png": "[encoded data removed]",
      "text/plain": [
       "<Figure size 432x288 with 1 Axes>"
      ]
     },
     "metadata": {
      "needs_background": "light"
     },
     "output_type": "display_data"
    },
    {
     "name": "stdout",
     "output_type": "stream",
     "text": [
      "Acceptance probability : 0.00171\n"
     ]
    }
   ],
   "source": [
    "plt.hist(attempt9, bins = 100)\n",
    "plt.ylabel('Frequency')\n",
    "plt.xlabel('Mutation rate')\n",
    "plt.title('Posterior estimate')\n",
    "plt.show()\n",
    "print(\"Acceptance probability :\",len(attempt9)/iterations)"
   ]
  },
  {
   "cell_type": "code",
   "execution_count": null,
   "metadata": {},
   "outputs": [],
   "source": [
    " "
   ]
  }
 ],
 "metadata": {
  "kernelspec": {
   "display_name": "Python 3",
   "language": "python",
   "name": "python3"
  },
  "language_info": {
   "codemirror_mode": {
    "name": "ipython",
    "version": 3
   },
   "file_extension": ".py",
   "mimetype": "text/x-python",
   "name": "python",
   "nbconvert_exporter": "python",
   "pygments_lexer": "ipython3",
   "version": "3.7.6"
  }
 },
 "nbformat": 4,
 "nbformat_minor": 4
}
