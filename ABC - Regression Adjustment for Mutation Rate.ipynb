{
 "cells": [
  {
   "cell_type": "code",
   "execution_count": 2,
   "metadata": {},
   "outputs": [],
   "source": [
    "import msprime\n",
    "import sys\n",
    "import numpy as np\n",
    "import seaborn as sns\n",
    "from IPython.display import SVG\n",
    "import matplotlib.pyplot as plt\n",
    "from itertools import chain"
   ]
  },
  {
   "cell_type": "code",
   "execution_count": 26,
   "metadata": {},
   "outputs": [
    {
     "name": "stdout",
     "output_type": "stream",
     "text": [
      "500\n",
      "500.0\n"
     ]
    }
   ],
   "source": [
    "#Reference Population\n",
    "pop_configs = [\n",
    "    msprime.PopulationConfiguration(sample_size=100)]\n",
    "Ne = 100\n",
    "recomb = 0.1\n",
    "ts_ref = msprime.simulate(\n",
    "    population_configurations=pop_configs,Ne = Ne,mutation_rate=0.25,recombination_rate = recomb,random_seed=11)\n",
    "print(ts_ref.num_mutations)\n",
    "print(ts_ref.segregating_sites())"
   ]
  },
  {
   "cell_type": "code",
   "execution_count": 16,
   "metadata": {},
   "outputs": [],
   "source": [
    "#ABC Function\n",
    "def ABC_regression(data,eps,pop_configs,Ne,recomb,prior=\"exponential\",prior_parameters=1,iters=1000):\n",
    "    ref_stat = (data.diversity(),data.Tajimas_D(),data.segregating_sites())\n",
    "    samples = []\n",
    "    discrepancies = []\n",
    "    if prior == \"exponential\":\n",
    "        for i in range(0,iters):\n",
    "            mutation_rate_sim = np.random.exponential(prior_parameters)\n",
    "            ts_sim = msprime.simulate(population_configurations=pop_configs,Ne=Ne,recombination_rate=recomb,mutation_rate=mutation_rate_sim)\n",
    "            sim_stat = (ts_sim.diversity(),ts_sim.Tajimas_D(),ts_sim.segregating_sites())\n",
    "            if np.linalg.norm(np.subtract(sim_stat,ref_stat)) < eps:\n",
    "                samples.append(mutation_rate_sim)\n",
    "                discrepancies.append(np.subtract(sim_stat,ref_stat))\n",
    "    elif prior == \"uniform\":\n",
    "        for i in range(0,iters):\n",
    "            mutation_rate_sim = np.random.uniform(prior_parameters[0],prior_parameters[1])\n",
    "            ts_sim = msprime.simulate(population_configurations=pop_configs,Ne=Ne,recombination_rate=recomb,mutation_rate=mutation_rate_sim)\n",
    "            sim_stat = (ts_sim.diversity(),ts_sim.Tajimas_D(),ts_sim.segregating_sites())\n",
    "            if np.linalg.norm(np.subtract(ref_stat,sim_stat)) < eps:\n",
    "                samples.append(mutation_rate_sim)\n",
    "    elif prior == \"gamma\":\n",
    "        for i in range(0,iters):\n",
    "            mutation_rate_sim = np.random.gamma(prior_parameters[0],prior_parameters[1])\n",
    "            ts_sim = msprime.simulate(population_configurations=pop_configs,Ne=Ne,recombination_rate=recomb,mutation_rate=mutation_rate_sim)\n",
    "            sim_stat = (ts_sim.diversity(),ts_sim.Tajimas_D(),ts_sim.segregating_sites())\n",
    "            if np.linalg.norm(np.subtract(sim_stat,ref_stat)) < eps:\n",
    "                samples.append(mutation_rate_sim)\n",
    "    return(samples,discrepancies)"
   ]
  },
  {
   "cell_type": "code",
   "execution_count": 17,
   "metadata": {},
   "outputs": [
    {
     "name": "stdout",
     "output_type": "stream",
     "text": [
      "Wall time: 7min 38s\n"
     ]
    }
   ],
   "source": [
    "%%time\n",
    "#Exponential prior scale 0.2\n",
    "iterations = 100000\n",
    "eps = 10\n",
    "prior= \"exponential\"\n",
    "prior_parameters = 0.2\n",
    "attempt1 = ABC_regression(ts_ref,eps=eps,pop_configs=pop_configs,Ne=Ne,recomb=recomb,prior=prior,prior_parameters=prior_parameters,iters=iterations)"
   ]
  },
  {
   "cell_type": "code",
   "execution_count": 27,
   "metadata": {},
   "outputs": [
    {
     "data": {
      "image/png": "[encoded data removed]",
      "text/plain": [
       "<Figure size 432x288 with 1 Axes>"
      ]
     },
     "metadata": {
      "needs_background": "light"
     },
     "output_type": "display_data"
    },
    {
     "name": "stdout",
     "output_type": "stream",
     "text": [
      "Acceptance probability : 0.00221\n",
      "221\n"
     ]
    }
   ],
   "source": [
    "plt.hist(attempt1[0], bins = 40)\n",
    "plt.ylabel('Frequency')\n",
    "plt.xlabel('Mutation rate')\n",
    "plt.title('Posterior estimate')\n",
    "plt.show()\n",
    "print(\"Acceptance probability :\",len(attempt1[0])/iterations)\n",
    "print(len(attempt1[0]))"
   ]
  },
  {
   "cell_type": "code",
   "execution_count": 42,
   "metadata": {},
   "outputs": [],
   "source": [
    "X = np.zeros((len(attempt1[0]),4))\n",
    "for i in range(len(attempt1[0])):\n",
    "    for j in range(4):\n",
    "        if j == 0:\n",
    "            X[i][j]=1\n",
    "        else:\n",
    "            X[i][j]= attempt1[1][i][j-1]\n",
    "adjusted_samples = np.subtract(attempt1[0],np.dot(np.array(attempt1[1]),np.dot(np.linalg.inv(np.dot(X.T,X)),np.dot(X.T,np.array(attempt1[0])))[1:]))\n"
   ]
  },
  {
   "cell_type": "code",
   "execution_count": 43,
   "metadata": {},
   "outputs": [
    {
     "data": {
      "image/png": "[encoded data removed]",
      "text/plain": [
       "<Figure size 432x288 with 1 Axes>"
      ]
     },
     "metadata": {
      "needs_background": "light"
     },
     "output_type": "display_data"
    },
    {
     "name": "stdout",
     "output_type": "stream",
     "text": [
      "Acceptance probability : 0.00221\n",
      "221\n"
     ]
    }
   ],
   "source": [
    "plt.hist(adjusted_samples, bins = 40)\n",
    "plt.ylabel('Frequency')\n",
    "plt.xlabel('Mutation rate')\n",
    "plt.title('Posterior estimate')\n",
    "plt.show()\n",
    "print(\"Acceptance probability :\",len(attempt1[0])/iterations)\n",
    "print(len(attempt1[0]))"
   ]
  }
 ],
 "metadata": {
  "kernelspec": {
   "display_name": "Python 3",
   "language": "python",
   "name": "python3"
  },
  "language_info": {
   "codemirror_mode": {
    "name": "ipython",
    "version": 3
   },
   "file_extension": ".py",
   "mimetype": "text/x-python",
   "name": "python",
   "nbconvert_exporter": "python",
   "pygments_lexer": "ipython3",
   "version": "3.7.6"
  }
 },
 "nbformat": 4,
 "nbformat_minor": 4
}
